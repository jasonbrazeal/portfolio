{
 "cells": [
  {
   "cell_type": "markdown",
   "id": "f6ae3b3e",
   "metadata": {},
   "source": [
    "# Data Preparation\n",
    "\n",
    "The plans is to:\n",
    "* contextualize chunks - add context that explains what each chunk is about and how it fits into the document\n",
    "* embed chunks - embed chunks with their context included\n",
    "* create evaluation dataset - using the contextualized chunks, use a LLM to create a gold set of query + answer pairs to evaluate retrieval. I review each of the generated pairs for quality and delete many of the weaker ones (collected in tech-manual-rag.eval.deleted.jsonl). There are quite a few low quality data pairs to weed out, asking things like what page something is on or giving an answer that is patently incorrect. But overall, this is an effective method, yielding about 180 query + answer pairs for our gold set (tech-manual-rag.eval.jsonl)."
   ]
  },
  {
   "cell_type": "code",
   "execution_count": null,
   "id": "cb29b6b4",
   "metadata": {
    "lines_to_next_cell": 1
   },
   "outputs": [],
   "source": [
    "import json\n",
    "import random\n",
    "\n",
    "from concurrent.futures import ThreadPoolExecutor, as_completed\n",
    "from pathlib import Path\n",
    "from textwrap import dedent\n",
    "from tqdm import tqdm\n",
    "\n",
    "from goog import get_google_client, MODEL\n",
    "from text import contextualize_chunks, embed_all_chunks\n",
    "from utils import retry"
   ]
  },
  {
   "cell_type": "code",
   "execution_count": null,
   "id": "a3df793e",
   "metadata": {
    "lines_to_next_cell": 1
   },
   "outputs": [],
   "source": [
    "def create_eval_dataset(filepath: Path):\n",
    "    \"\"\"\n",
    "    * choose 6 random chunks per doc (41 docs, so, 246 total, aiming for at least 150-200 good ones.)\n",
    "    * prompt LLM to generate 1 question/answer pair per chunk\n",
    "    * human review, not all will be good queries/answers\n",
    "    \"\"\"\n",
    "    filepath_dst = filepath.parent.parent / filepath.name.replace('.contextualized.embedded.jsonl', '.eval.jsonl')\n",
    "    with open(filepath, 'r') as f:\n",
    "        total_docs = sum(1 for _ in f)\n",
    "    with open(filepath, 'r') as src, open(filepath_dst, 'w') as dst:\n",
    "        for line in tqdm(src, desc='creating eval dataset', unit='docs', total=total_docs, colour='blue'):\n",
    "            doc = json.loads(line)\n",
    "            chunks_contextualized = doc['chunks_contextualized']\n",
    "            # don't use short chunks for evaluation\n",
    "            non_short_chunks = [c for c in chunks_contextualized if len(c['chunk_text']) > 1000]\n",
    "            print(f'filtered out {len(chunks_contextualized) - len(non_short_chunks)} short chunks for doc {doc[\"doc_id\"]}')\n",
    "            rando_chunks = random.sample(non_short_chunks, 6)\n",
    "\n",
    "            with ThreadPoolExecutor(max_workers=2) as executor:\n",
    "                futures = []\n",
    "                for chunk in rando_chunks:\n",
    "                    futures.append(executor.submit(generate_chunk_eval, chunk, doc['doc_id']))\n",
    "\n",
    "                for future in tqdm(as_completed(futures), total=len(rando_chunks), desc='processing chunks', colour='#b76d4b'):\n",
    "                    query, answer, doc_id, chunk_id = future.result()\n",
    "                    eval_doc = {\n",
    "                        'doc_id': doc_id,\n",
    "                        'chunk_id': chunk_id,\n",
    "                        'query': query,\n",
    "                        'answer': answer,\n",
    "                    }\n",
    "                    dst.write(json.dumps(eval_doc) + '\\n')\n",
    "\n",
    "\n",
    "def generate_chunk_eval(chunk: dict, doc_id: str) -> tuple[str, str, str, str]:\n",
    "    query_prompt = dedent('''\n",
    "        Here is a chunk of text from a document in a search retrieval system:\n",
    "        <chunk>\n",
    "        {}\n",
    "        </chunk>\n",
    "        Please provide a query that can be answered using the text in this chunk.\n",
    "        The query should be specific, not generic, and likely to have an answer located only in this chunk, not the rest of the document.\n",
    "        Give the query and nothing else.\n",
    "    ''')\n",
    "\n",
    "    answer_prompt = dedent('''\n",
    "        Here is a chunk of text from a document in a search retrieval system:\n",
    "        <chunk>\n",
    "        {}\n",
    "        </chunk>\n",
    "        Here is a query about that chunk:\n",
    "        <query>\n",
    "        {}\n",
    "        </query>\n",
    "        Please provide an answer to the query based only on the text in this chunk.\n",
    "        Give the answer and nothing else.\n",
    "    ''')\n",
    "\n",
    "    def _generate_chunk_eval(chunk: dict, doc_id: str) -> tuple[str, str, str, str]:\n",
    "        client = get_google_client()\n",
    "\n",
    "        response_query = client.models.generate_content(\n",
    "            model=MODEL,\n",
    "            contents=query_prompt.format(chunk['chunk_text']),\n",
    "        )\n",
    "        query: str | None = response_query.text\n",
    "        if not query:\n",
    "            query = ''\n",
    "\n",
    "        response_answer = client.models.generate_content(\n",
    "            model=MODEL,\n",
    "            contents=answer_prompt.format(chunk['chunk_text'], query),\n",
    "        )\n",
    "        answer: str | None = response_answer.text\n",
    "        if not answer:\n",
    "            answer = ''\n",
    "\n",
    "        return query, answer, doc_id, chunk['chunk_id']\n",
    "\n",
    "    return retry(_generate_chunk_eval, (chunk, doc_id))"
   ]
  },
  {
   "cell_type": "code",
   "execution_count": null,
   "id": "9f096cbe",
   "metadata": {},
   "outputs": [],
   "source": [
    "project_root = Path(__file__).parent.parent\n",
    "data_dir = project_root / 'data'\n",
    "pdf_dir = data_dir / 'texas_instruments_manuals'\n",
    "dataset_orig = data_dir / 'tech-manual-rag.jsonl'\n",
    "dataset_contextualized = data_dir / 'tech-manual-rag.contextualized.jsonl'\n",
    "dataset_embedded = data_dir / 'tech-manual-rag.contextualized.embedded.jsonl'"
   ]
  },
  {
   "cell_type": "code",
   "execution_count": null,
   "id": "224fd3d7",
   "metadata": {},
   "outputs": [],
   "source": [
    "contextualize_chunks(dataset_orig)\n",
    "embed_all_chunks(dataset_contextualized)\n",
    "create_eval_dataset(dataset_embedded)"
   ]
  }
 ],
 "metadata": {
  "jupytext": {
   "cell_metadata_filter": "-all",
   "main_language": "python",
   "notebook_metadata_filter": "-all"
  }
 },
 "nbformat": 4,
 "nbformat_minor": 5
}
